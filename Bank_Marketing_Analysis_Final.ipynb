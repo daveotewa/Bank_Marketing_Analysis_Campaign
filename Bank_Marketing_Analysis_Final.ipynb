{
 "cells": [
  {
   "cell_type": "markdown",
   "id": "de50efa5",
   "metadata": {},
   "source": [
    "# 📊 Bank Marketing Campaign Analysis\n",
    "This notebook explores and analyzes patterns from previous marketing campaigns to help enhance future success."
   ]
  },
  {
   "cell_type": "code",
   "execution_count": null,
   "id": "36ac2ba9",
   "metadata": {},
   "outputs": [],
   "source": [
    "# Step 1: Import Libraries\n",
    "import pandas as pd\n",
    "import matplotlib.pyplot as plt\n",
    "import seaborn as sns\n",
    "\n",
    "# Set style for plots\n",
    "sns.set(style='whitegrid')"
   ]
  },
  {
   "cell_type": "code",
   "execution_count": null,
   "id": "813d13db",
   "metadata": {},
   "outputs": [],
   "source": [
    "# Step 2: Load the Dataset\n",
    "file_path = 'bank_customers_train.csv'\n",
    "df = pd.read_csv(file_path)\n",
    "df.head()"
   ]
  },
  {
   "cell_type": "code",
   "execution_count": null,
   "id": "0504248e",
   "metadata": {},
   "outputs": [],
   "source": [
    "# Step 3: Basic Info & Missing Values\n",
    "df.info()\n",
    "df.isnull().sum()"
   ]
  },
  {
   "cell_type": "code",
   "execution_count": null,
   "id": "7f079460",
   "metadata": {},
   "outputs": [],
   "source": [
    "# Step 4: Target Variable Distribution\n",
    "sns.countplot(data=df, x='y')\n",
    "plt.title('Term Deposit Subscription (Target Variable)')\n",
    "plt.show()"
   ]
  },
  {
   "cell_type": "code",
   "execution_count": null,
   "id": "5116e7c2",
   "metadata": {},
   "outputs": [],
   "source": [
    "# Step 5: Campaign Success by Education Level\n",
    "sns.countplot(data=df, x='education', hue='y')\n",
    "plt.xticks(rotation=45)\n",
    "plt.title('Campaign Outcome by Education Level')\n",
    "plt.show()"
   ]
  },
  {
   "cell_type": "code",
   "execution_count": null,
   "id": "8c0982bc",
   "metadata": {},
   "outputs": [],
   "source": [
    "# Step 6: Campaign Success by Contact Method\n",
    "sns.countplot(data=df, x='contact', hue='y')\n",
    "plt.title('Outcome by Contact Method')\n",
    "plt.show()"
   ]
  },
  {
   "cell_type": "code",
   "execution_count": null,
   "id": "8e2756bc",
   "metadata": {},
   "outputs": [],
   "source": [
    "# Step 7: Month-wise Success Rate\n",
    "sns.countplot(data=df, x='month', hue='y', order=df['month'].value_counts().index)\n",
    "plt.title('Outcome by Month')\n",
    "plt.show()"
   ]
  },
  {
   "cell_type": "code",
   "execution_count": null,
   "id": "c8c477de",
   "metadata": {},
   "outputs": [],
   "source": [
    "# Step 8: Heatmap of Numeric Correlations\n",
    "plt.figure(figsize=(12, 8))\n",
    "sns.heatmap(df.corr(numeric_only=True), annot=True, cmap='coolwarm')\n",
    "plt.title('Correlation Matrix')\n",
    "plt.show()"
   ]
  },
  {
   "cell_type": "markdown",
   "id": "a0579210",
   "metadata": {},
   "source": [
    "### ✅ Next Steps:\n",
    "- Explore customer demographics (job, marital, loan status)\n",
    "- Build a predictive model (Logistic Regression / Decision Tree)\n",
    "- Identify top factors influencing positive campaign outcomes"
   ]
  },
  {
   "cell_type": "markdown",
   "id": "3688a32e",
   "metadata": {},
   "source": [
    "## 🧼 Step 9: Data Cleaning\n",
    "Check for duplicates, handle missing values, and prepare categorical data."
   ]
  },
  {
   "cell_type": "code",
   "execution_count": null,
   "id": "1dd3d25e",
   "metadata": {},
   "outputs": [],
   "source": [
    "# Drop duplicates\n",
    "df.drop_duplicates(inplace=True)\n",
    "\n",
    "# Check again for missing values\n",
    "df.isnull().sum()"
   ]
  },
  {
   "cell_type": "code",
   "execution_count": null,
   "id": "ea06fcb5",
   "metadata": {},
   "outputs": [],
   "source": [
    "# Encode categorical variables using get_dummies\n",
    "df_encoded = pd.get_dummies(df, drop_first=True)\n",
    "df_encoded.head()"
   ]
  },
  {
   "cell_type": "markdown",
   "id": "22c10394",
   "metadata": {},
   "source": [
    "## 🤖 Step 10: Predictive Modeling\n",
    "Build a Logistic Regression model to predict campaign success (`y`)."
   ]
  },
  {
   "cell_type": "code",
   "execution_count": null,
   "id": "ac193c58",
   "metadata": {},
   "outputs": [],
   "source": [
    "# Step 10.1: Import required libraries\n",
    "from sklearn.model_selection import train_test_split\n",
    "from sklearn.linear_model import LogisticRegression\n",
    "from sklearn.metrics import classification_report, confusion_matrix"
   ]
  },
  {
   "cell_type": "code",
   "execution_count": null,
   "id": "d9356da5",
   "metadata": {},
   "outputs": [],
   "source": [
    "# Step 10.2: Prepare features and target\n",
    "X = df_encoded.drop('y_yes', axis=1)\n",
    "y = df_encoded['y_yes']\n",
    "\n",
    "# Train-test split\n",
    "X_train, X_test, y_train, y_test = train_test_split(X, y, test_size=0.2, random_state=42)"
   ]
  },
  {
   "cell_type": "code",
   "execution_count": null,
   "id": "cfa31e85",
   "metadata": {},
   "outputs": [],
   "source": [
    "# Step 10.3: Train Logistic Regression Model\n",
    "model = LogisticRegression(max_iter=1000)\n",
    "model.fit(X_train, y_train)"
   ]
  },
  {
   "cell_type": "code",
   "execution_count": null,
   "id": "4d4d2584",
   "metadata": {},
   "outputs": [],
   "source": [
    "# Step 10.4: Evaluate Model\n",
    "y_pred = model.predict(X_test)\n",
    "print(confusion_matrix(y_test, y_pred))\n",
    "print(classification_report(y_test, y_pred))"
   ]
  },
  {
   "cell_type": "markdown",
   "id": "92ff7541",
   "metadata": {},
   "source": [
    "### ✅ Summary\n",
    "- Logistic Regression helps identify key factors influencing campaign success.\n",
    "- You can try other models like Decision Trees or Random Forests for deeper analysis.\n",
    "- Visualize feature importance or explore ROC curves for further evaluation."
   ]
  },
  {
   "cell_type": "markdown",
   "id": "d06b2650",
   "metadata": {},
   "source": [
    "## 📊 Step 11: ROC Curve for Logistic Regression"
   ]
  },
  {
   "cell_type": "code",
   "execution_count": null,
   "id": "8c68786e",
   "metadata": {},
   "outputs": [],
   "source": [
    "\n",
    "from sklearn.metrics import roc_curve, auc\n",
    "import matplotlib.pyplot as plt\n",
    "\n",
    "# Predict probabilities\n",
    "y_probs = model.predict_proba(X_test)[:, 1]\n",
    "fpr, tpr, thresholds = roc_curve(y_test, y_probs)\n",
    "roc_auc = auc(fpr, tpr)\n",
    "\n",
    "# Plot ROC Curve\n",
    "plt.figure()\n",
    "plt.plot(fpr, tpr, color='darkorange', lw=2, label=f'ROC curve (area = {roc_auc:.2f})')\n",
    "plt.plot([0, 1], [0, 1], color='navy', lw=2, linestyle='--')\n",
    "plt.xlabel('False Positive Rate')\n",
    "plt.ylabel('True Positive Rate')\n",
    "plt.title('Receiver Operating Characteristic - Logistic Regression')\n",
    "plt.legend(loc='lower right')\n",
    "plt.show()\n"
   ]
  },
  {
   "cell_type": "markdown",
   "id": "32b99c53",
   "metadata": {},
   "source": [
    "## 🌲 Step 12: Random Forest Classifier"
   ]
  },
  {
   "cell_type": "code",
   "execution_count": null,
   "id": "fca6e41b",
   "metadata": {},
   "outputs": [],
   "source": [
    "\n",
    "from sklearn.ensemble import RandomForestClassifier\n",
    "\n",
    "# Train Random Forest\n",
    "rf_model = RandomForestClassifier(n_estimators=100, random_state=42)\n",
    "rf_model.fit(X_train, y_train)\n",
    "rf_preds = rf_model.predict(X_test)\n",
    "\n",
    "# Evaluate\n",
    "print(confusion_matrix(y_test, rf_preds))\n",
    "print(classification_report(y_test, rf_preds))\n"
   ]
  },
  {
   "cell_type": "markdown",
   "id": "fc9e03de",
   "metadata": {},
   "source": [
    "## 📌 Step 13: Feature Importance from Random Forest"
   ]
  },
  {
   "cell_type": "code",
   "execution_count": null,
   "id": "6f487764",
   "metadata": {},
   "outputs": [],
   "source": [
    "\n",
    "import numpy as np\n",
    "\n",
    "# Plot feature importance\n",
    "importances = rf_model.feature_importances_\n",
    "indices = np.argsort(importances)[-10:]  # top 10\n",
    "\n",
    "plt.figure(figsize=(10,6))\n",
    "plt.title(\"Top 10 Feature Importances - Random Forest\")\n",
    "plt.barh(range(len(indices)), importances[indices], align='center')\n",
    "plt.yticks(range(len(indices)), [X.columns[i] for i in indices])\n",
    "plt.xlabel('Relative Importance')\n",
    "plt.show()\n"
   ]
  }
 ],
 "metadata": {},
 "nbformat": 4,
 "nbformat_minor": 5
}
